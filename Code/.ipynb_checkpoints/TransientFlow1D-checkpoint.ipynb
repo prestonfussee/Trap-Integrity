{
 "cells": [
  {
   "cell_type": "markdown",
   "metadata": {},
   "source": [
    "## Variational Formulation for Transient Flow"
   ]
  },
  {
   "cell_type": "markdown",
   "metadata": {},
   "source": [
    "Consider the strong form given by: $$\\frac{\\partial P}{\\partial t} = D\\nabla\\cdot(\\nabla P)$$ where $D = \\frac{k}{\\mu\\cdot S}$ and $S = \\phi\\beta_T + \\alpha$\n",
    "\n",
    "The time-derivative can be approximated by a difference quotient. For simplicity and stability reasons, we choose a simple backward difference:\n",
    "\n",
    "$$\\frac{P^{n+1}-P^n}{\\Delta t} = D\\nabla\\cdot(\\nabla P)$$\n",
    "\n",
    "Isolating $P^{n+1}$ on the left-hand side yields:\n",
    "\n",
    "$$P^{n+1} - \\Delta t D \\nabla^2 P^{n+1} = P^n$$\n",
    "\n",
    "Multiplying by $v\\in H^1(\\Omega)$ and integrating across the domain, $\\Omega$ yields:\n",
    "\n",
    "$$\\int_{\\Omega}v\\left[P^{n+1} - \\Delta t D \\nabla^2 P^{n+1}\\right]dx = \\int_{\\Omega}vP^ndx$$\n",
    "\n",
    "It then follows that integrating by parts and rearranging yields the final variational formulation for transient flow without sources/sinks:\n",
    "\n",
    "$$\\int_{\\Omega}\\left[vP^{n+1} + \\Delta t D \\nabla v \\nabla P^{n+1}\\right]dx = \\int_{\\Omega}vP^ndx + \\Delta t\\int_{\\Gamma_N}Dv\\nabla P^n\\cdot\\hat{n}ds $$\n",
    "\n",
    "with the following boundary and initial conditions:\n",
    "\n",
    "$$\\textbf{BC:} \\;\\; \\nabla P\\cdot\\hat{n}|_{x=0} = \\frac{-q_0 \\mu}{k}$$\n",
    "\n",
    "$$\\textbf{IC:} \\;\\; P(x,t_0) = P_0$$"
   ]
  },
  {
   "cell_type": "markdown",
   "metadata": {},
   "source": [
    "## Analytic Solution in 1-Dimension"
   ]
  },
  {
   "cell_type": "markdown",
   "metadata": {},
   "source": [
    "The analytic solution to transient flow in 1-dimension is given by:\n",
    "$$ P(x,t) = P_0 + \\frac{2q_0\\sqrt{\\mu t}}{\\sqrt{k S}}\\left[\\frac{1}{\\sqrt{\\pi}}e^{\\frac{-x^2}{4Dt}} - \\frac{x}{\\sqrt{4Dt}}\\left(1-erf\\left(\\frac{x}{\\sqrt{4Dt}}\\right)\\right)\\right]$$"
   ]
  },
  {
   "cell_type": "markdown",
   "metadata": {},
   "source": [
    "## FEniCS Implementation"
   ]
  },
  {
   "cell_type": "code",
   "execution_count": 2,
   "metadata": {},
   "outputs": [],
   "source": [
    "from dolfin import *\n",
    "import numpy as np\n",
    "import matplotlib.pyplot as plt\n",
    "import math\n",
    "\n",
    "# Left Boundary: Helper function required by fenics\n",
    "class Left(SubDomain):\n",
    "    def inside(self, x, on_boundary):\n",
    "        return on_boundary and near(x[0],0.0)\n",
    "\n",
    "# Right Boundary: Helper function required by fenics\n",
    "class Right(SubDomain):\n",
    "    def inside(self, x, on_boundary):\n",
    "        return on_boundary and near(x[0],10000.0)\n",
    "    \n",
    "class Transient:\n",
    "    def __init__(self):\n",
    "        self.d = 2 # order of the elements, here quadratic piecewise polynomials are used\n",
    "        self.h0 = 10. # initial head in the aquifer [m]\n",
    "        self.q0 = 1.  # production rate [m/s]\n",
    "        self.phi = 0.3 # porosity\n",
    "        self.beta = 4.4e-10 # fluid compressibility [1/Pa]\n",
    "        self.alpha = 1.0e-8 # bulk rock compressibility [1/Pa]\n",
    "        self.k = 2.46730816679E-13 # 250 mD convert to m^2\n",
    "        self.mu = 0.0005 # 0.5 cP (Viscosity value for a sodium formate brine w/ rho = 1100 and T = 100 C )\n",
    "        self.rho = 1000. # Fluid density [kg/m^3]\n",
    "        self.g = 9.81 # gravitational acceleration [m/s^2]\n",
    "        self.D = self.k/(self.mu*(self.phi*self.beta + self.alpha))\n",
    "        #self.generate_mesh() # Generates the mesh\n",
    "        #self.set_boundary_conditions() # Enforces Boundary Conditions\n",
    "        \n",
    "    def generate_mesh(self):\n",
    "        x0 = 0. # Define min(x)\n",
    "        x1 = 1.0e4 # Define max(x)\n",
    "        nx = 1000 # Number of cells in x-direction\n",
    "        self.mesh = IntervalMesh(nx, x0, x1) # creates 1D line for mesh\n",
    "        self.Vh = FunctionSpace(self.mesh, \"Lagrange\", self.d) # Define function space on mesh (Lagrange with order = self.d)\n",
    "        self.facet_data = MeshFunction('size_t', self.mesh, self.mesh.topology().dim()-1) # Create mesh function\n",
    "        self.facet_data.set_all(0) # Label all facets in the mesh with integer = 0\n",
    "\n",
    "    def set_boundary_conditions(self):\n",
    "        # Instantiate classes that prescribe boundaries\n",
    "        self.Neumann  = Constant(-self.q0*self.mu/self.k) # Left most boundary condition (Neumann)\n",
    "        self.Dirichlet = Constant(0.) # Right condition on sides \n",
    "        self.Left = Left() # Instantiate classes\n",
    "        self.Right = Right() # Instantiate classes\n",
    "        self.Left.mark(self.facet_data, 1) # Mark facets belonging to left boundary with integer = 1\n",
    "        self.Right.mark(self.facet_data, 2) # Mark facets belonging to right boundaries with integer = 2\n",
    "        self.bcs = [DirichletBC(self.Vh, self.u_D, self.facet_data, 1)] # Create object to store Dirichlet Boundary Conditions\n",
    "        self.my_ds = Measure(\"ds\", subdomain_data=self.facet_data) # Create a measure to easily identify parts of the domain\n",
    "\n",
    "    def solve_system(self):\n",
    "        # Construct function spaces to search for solution\n",
    "        uh = TrialFunction(self.Vh) # Set up trial function based on function space (Vh)\n",
    "        vh = TestFunction(self.Vh) # Set up test function based on funtion space(Vh)\n",
    "        a = inner((self.k/self.mu)*grad(uh), grad(vh))*dx # Define left hand side\n",
    "        # Here my_ds(3) indicates integration over gamma_N2 only \n",
    "        L = (self.k/self.mu)*self.du_bot*vh*self.my_ds(3) - inner((self.k/self.mu)*self.g*self.rho, grad(vh))*dx \\\n",
    "        + (self.k/self.mu)*self.rho*dot(self.g,n)*vh*self.my_ds(3) # Define right hand side\n",
    "        A, b = assemble_system(a, L, self.bcs) # Assembly\n",
    "        self.u = Function(self.Vh) # Define place holder function\n",
    "        solve(A, self.u.vector(), b) # Solve for weights for function u\n",
    "        # Return the solution\n",
    "        return self.u"
   ]
  },
  {
   "cell_type": "code",
   "execution_count": 3,
   "metadata": {},
   "outputs": [],
   "source": [
    "u = Transient()"
   ]
  },
  {
   "cell_type": "code",
   "execution_count": 4,
   "metadata": {},
   "outputs": [
    {
     "name": "stdout",
     "output_type": "stream",
     "text": [
      "Calling FFC just-in-time (JIT) compiler, this may take some time.\n"
     ]
    }
   ],
   "source": [
    "u.generate_mesh()"
   ]
  },
  {
   "cell_type": "code",
   "execution_count": null,
   "metadata": {},
   "outputs": [],
   "source": []
  }
 ],
 "metadata": {
  "kernelspec": {
   "display_name": "Python 3",
   "language": "python",
   "name": "python3"
  },
  "language_info": {
   "codemirror_mode": {
    "name": "ipython",
    "version": 3
   },
   "file_extension": ".py",
   "mimetype": "text/x-python",
   "name": "python",
   "nbconvert_exporter": "python",
   "pygments_lexer": "ipython3",
   "version": "3.6.5"
  }
 },
 "nbformat": 4,
 "nbformat_minor": 2
}
