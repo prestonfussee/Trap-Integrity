{
 "cells": [
  {
   "cell_type": "markdown",
   "metadata": {},
   "source": [
    "## Variational Formulation for Transient Flow"
   ]
  },
  {
   "cell_type": "markdown",
   "metadata": {},
   "source": [
    "Consider the strong form given by: $$\\frac{\\partial P}{\\partial t} = D\\nabla\\cdot(\\nabla P)$$ where $D = \\frac{k}{\\mu\\cdot S}$ and $S = \\phi\\beta_T + \\alpha$\n",
    "\n",
    "The time-derivative can be approximated by a difference quotient. For simplicity and stability reasons, we choose a simple backward difference:\n",
    "\n",
    "$$\\frac{P^{n+1}-P^n}{\\Delta t} = D\\nabla\\cdot(\\nabla P)$$\n",
    "\n",
    "Isolating $P^{n+1}$ on the left-hand side yields:\n",
    "\n",
    "$$P^{n+1} - \\Delta t D \\nabla^2 P^{n+1} = P^n$$\n",
    "\n",
    "Multiplying by $v\\in H^1(\\Omega)$ and integrating across the domain, $\\Omega$ yields:\n",
    "\n",
    "$$\\int_{\\Omega}v\\left[P^{n+1} - \\Delta t D \\nabla^2 P^{n+1}\\right]dx = \\int_{\\Omega}vP^ndx$$\n",
    "\n",
    "It then follows that integrating by parts and rearranging yields the final variational formulation for transient flow without sources/sinks:\n",
    "\n",
    "$$\\int_{\\Omega}\\left[vP^{n+1} + \\Delta t D \\nabla v \\nabla P^{n+1}\\right]dx = \\int_{\\Omega}vP^ndx + \\Delta t\\int_{\\Gamma_N}Dv\\nabla P^n\\cdot\\hat{n}ds $$\n",
    "\n",
    "with the following boundary and initial conditions:\n",
    "\n",
    "$$\\textbf{BC:} \\;\\; \\nabla P\\cdot\\hat{n}|_{x=0} = \\frac{-q_0 \\mu}{k}$$\n",
    "\n",
    "$$\\textbf{IC:} \\;\\; P(x,t_0) = P_0$$"
   ]
  },
  {
   "cell_type": "markdown",
   "metadata": {},
   "source": [
    "## Analytic Solution in 1-Dimension"
   ]
  },
  {
   "cell_type": "markdown",
   "metadata": {},
   "source": [
    "The analytic solution to transient flow in 1-dimension is given by:\n",
    "$$ P(x,t) = P_0 + \\frac{2q_0\\sqrt{\\mu t}}{\\sqrt{k S}}\\left[\\frac{1}{\\sqrt{\\pi}}e^{\\frac{-x^2}{4Dt}} - \\frac{x}{\\sqrt{4Dt}}\\left(1-erf\\left(\\frac{x}{\\sqrt{4Dt}}\\right)\\right)\\right]$$"
   ]
  },
  {
   "cell_type": "markdown",
   "metadata": {},
   "source": [
    "## FEniCS Implementation"
   ]
  },
  {
   "cell_type": "code",
   "execution_count": 2,
   "metadata": {},
   "outputs": [],
   "source": [
    "from dolfin import *\n",
    "import numpy as np\n",
    "import matplotlib.pyplot as plt\n",
    "import math\n",
    "\n",
    "# Left Boundary: Helper function required by fenics\n",
    "class Left(SubDomain):\n",
    "    def inside(self, x, on_boundary):\n",
    "        return on_boundary and near(x[0],0.0)\n",
    "\n",
    "# Right Boundary: Helper function required by fenics\n",
    "class Right(SubDomain):\n",
    "    def inside(self, x, on_boundary):\n",
    "        return on_boundary and near(x[0],1.0)"
   ]
  }
 ],
 "metadata": {
  "kernelspec": {
   "display_name": "Python 3",
   "language": "python",
   "name": "python3"
  },
  "language_info": {
   "codemirror_mode": {
    "name": "ipython",
    "version": 3
   },
   "file_extension": ".py",
   "mimetype": "text/x-python",
   "name": "python",
   "nbconvert_exporter": "python",
   "pygments_lexer": "ipython3",
   "version": "3.6.5"
  }
 },
 "nbformat": 4,
 "nbformat_minor": 2
}
