{
 "cells": [
  {
   "cell_type": "markdown",
   "metadata": {},
   "source": [
    "## Variational Formulation for Steady State Flow in 3D\n",
    "\n",
    "Begin with the strong form given by:  \n",
    "    \n",
    "$$\\nabla\\cdot\\left[\\frac{k}{\\mu}(\\nabla P + \\rho g \\hat{z})\\right] = 0 $$\n",
    "\n",
    "Multiplying by test function $v \\in H_1(\\Omega)$ and integrating across domain $\\Omega$ yields:\n",
    "\n",
    "$$\\int_{\\Omega}v\\nabla\\cdot\\left[\\frac{k}{\\mu}(\\nabla P + \\rho g \\hat{z})\\right] = 0$$\n",
    "\n",
    "Integrating by parts yields:\n",
    "\n",
    "$$-\\int_{\\Omega}\\left<\\nabla v,\\left[\\frac{k}{\\mu}(\\nabla P + \\rho g \\hat{z})\\right]\\right> + \\int_{\\Gamma_{N}}v\\left<\\left[\\frac{k}{\\mu}(\\nabla P + \\rho g \\hat{z})\\right], \\hat{n}\\right> = 0$$\n",
    "\n",
    "where $\\left<\\cdot,\\cdot\\right>$ denotes the inner product on $\\Omega$ and $\\Gamma_{N}$ represents the neumann boundary.\n",
    "\n",
    "Rearranging and simplifying the equation above yields:\n",
    "\n",
    "$$\\int_{\\Omega}\\left<\\nabla v,\\left[\\frac{k}{\\mu}(\\nabla P + \\rho g \\hat{z})\\right]\\right> = \\int_{\\Gamma_{N}}v\\left<\\left[\\frac{k}{\\mu}(\\nabla P + \\rho g \\hat{z})\\right], \\hat{n}\\right> $$\n",
    "\n",
    "It then follows that by isolating the term of interest ($P$) on the left, we obtain the complete variational form for steady state flow without source/sink terms.\n",
    "\n",
    "$$\\int_{\\Omega}\\left<\\nabla v,\\frac{k}{\\mu}\\nabla P\\right> = \\int_{\\Gamma_{N}}v\\left<\\frac{k}{\\mu}\\nabla P, \\hat{n}\\right>  + \\int_{\\Gamma_{N}}v\\left<\\frac{k}{\\mu}\\rho g \\hat{z}, \\hat{n}\\right> \n",
    "- \\int_{\\Omega}\\left<\\nabla v,\\frac{k}{\\mu}\\rho g \\hat{z}\\right> $$"
   ]
  },
  {
   "cell_type": "code",
   "execution_count": 10,
   "metadata": {},
   "outputs": [
    {
     "name": "stdout",
     "output_type": "stream",
     "text": [
      "Writing mpitest.py\n"
     ]
    }
   ],
   "source": [
    "%%file mpitest.py\n",
    "\n",
    "# Import FEniCS\n",
    "from dolfin import *\n",
    "import numpy as np\n",
    "import matplotlib.pyplot as plt\n",
    "import math\n",
    "\n",
    "# Top Boundary: Helper function required by fenics\n",
    "class Top(SubDomain):\n",
    "    def inside(self, x, on_boundary):\n",
    "        return on_boundary and near(x[2],0.0)\n",
    "\n",
    "# Bottom Boundary: Helper function required by fenics\n",
    "class Bottom(SubDomain):\n",
    "    def inside(self, x, on_boundary):\n",
    "        return on_boundary and near(x[2],-20.0)\n",
    "\n",
    "# Left Boundary: Helper function required by fenics\n",
    "class SideLeft(SubDomain):\n",
    "    def inside(self, x, on_boundary):\n",
    "        return on_boundary and near(x[0],0.0)\n",
    "\n",
    "# Right Boundary: Helper function required by fenics\n",
    "class SideRight(SubDomain): \n",
    "    def inside(self, x, on_boundary):\n",
    "        return on_boundary and near(x[0], 20.0)\n",
    "\n",
    "# Front Boundary: Helper function required by fenics\n",
    "class SideFront(SubDomain): \n",
    "    def inside(self, x, on_boundary):\n",
    "        return on_boundary and near(x[1],0.0)\n",
    "\n",
    "# Back Boundary: Helper function required by fenics\n",
    "class SideBack(SubDomain): \n",
    "    def inside(self, x, on_boundary):\n",
    "        return on_boundary and near(x[1],20.0)\n",
    "    \n",
    "class FlowElastic3D:\n",
    "    def __init__(self):\n",
    "        self.d = 2 # order of the elements, here quadratic piecewise polynomials are used\n",
    "        self.g = Constant((0.,0.,9.81)) # this represents g*z where z is the upward pointing unit vector\n",
    "        self.k = 2.46730816679E-13 # 250 mD convert to m^2\n",
    "        self.mu = 0.0005 # 0.5 cP (Viscosity value for a sodium formate brine w/ rho = 1100 and T = 100 C )\n",
    "        self.rho = Constant(1100.) # Density of 1100 kg/m^3\n",
    "        self.generate_mesh() # Generates the mesh\n",
    "        self.set_boundary_conditions() # Enforces Boundary Conditions\n",
    "        \n",
    "    def generate_mesh(self):\n",
    "        x0 = 0. # Define min(x)\n",
    "        y0 = 0. # Define min(y)\n",
    "        x1 = 20. # Define max(x)\n",
    "        y1 = 20. # Define max(y)\n",
    "        z1 = 0. # Define max(z)\n",
    "        z0 = -20. # Define min(z)\n",
    "        nx = 25 # Number of cells in x-direction\n",
    "        ny = 25 # Number of cells in y-direction\n",
    "        nz = 25 # Number of cells in z-direction\n",
    "        self.mesh = BoxMesh(Point(x0, y0, z0), Point(x1, y1, z1), nx, ny, nz) # creates rectangular mesh\n",
    "        self.Vh = FunctionSpace(self.mesh, \"Lagrange\", self.d) # Define function space on mesh (Lagrange with order = self.d)\n",
    "        # Initialize mesh function for interior domains\n",
    "        self.domains = MeshFunction('size_t', self.mesh, self.mesh.topology().dim()-1)\n",
    "        self.domains.set_all(0) # Set all cell markets to 0 (Later changed in set_boundary_conditions)\n",
    "    \n",
    "        \n",
    "    def set_boundary_conditions(self):\n",
    "        # Instantiate classes that prescribe boundaries\n",
    "        self.TopDirichlet  = Constant(0.) # Top most boundary condition (Dirichlet)\n",
    "        self.SideNeumann = Constant(0.) # Boundary condition on sides (Neumann)\n",
    "        self.BottomNeumann = Constant(9.81*1100.0) # Bottom boundary Condition = rho*g\n",
    "        self.TopBoundary = Top() # Instantiate classes\n",
    "        self.BottomBoundary = Bottom() # Instantiate classes\n",
    "        self.LeftBoundary = SideLeft() # Instantiate classes\n",
    "        self.RightBoundary = SideRight() # Instantiate classes\n",
    "        self.FrontBoundary = SideFront() # Instantiate classes\n",
    "        self.BackBoundary = SideBack() # Instantiate classes\n",
    "        self.TopBoundary.mark(self.domains, 1) # Mark cells belonging to top boundary with integer = 1\n",
    "        self.BottomBoundary.mark(self.domains, 2) # Mark cells belonging to bottom boundary with integer = 2\n",
    "        self.LeftBoundary.mark(self.domains, 3) # Mark cells belonging to left side boundary with integer = 3\n",
    "        self.RightBoundary.mark(self.domains, 4) # Mark cells belonging to right side boundary with integer = 4\n",
    "        self.FrontBoundary.mark(self.domains, 5) # Mark cells belonging to front side boundary with integer = 5\n",
    "        self.LeftBoundary.mark(self.domains, 6) # Mark cells belonging to back side boundary with integer = 6                       \n",
    "        self.bcs = [DirichletBC(self.Vh, self.TopDirichlet, self.domains, 1)] # Create object to store Dirichlet Boundary Conditions\n",
    "        self.ds = Measure(\"ds\", subdomain_data=self.domains) # Create a measure to easily identify parts of the domain\n",
    "\n",
    "    def solve_system(self):\n",
    "        # Construct function spaces to search for solution\n",
    "        n = FacetNormal(self.mesh) # Get normal component to mesh\n",
    "        uh = TrialFunction(self.Vh) # Set up trial function based on function space (Vh)\n",
    "        vh = TestFunction(self.Vh) # Set up test function based on funtion space(Vh)\n",
    "        a = inner((self.k/self.mu)*grad(uh), grad(vh))*dx # Define left hand side \n",
    "        L = (self.k/self.mu)*self.BottomNeumann*vh*self.ds(2) - inner((self.k/self.mu)*self.g*self.rho, grad(vh))*dx \\\n",
    "        + (self.k/self.mu)*self.rho*dot(self.g,n)*vh*self.ds(2) # Define right hand side\n",
    "        A, b = assemble_system(a, L, self.bcs) # Assembly\n",
    "        self.u = Function(self.Vh) # Define place holder function\n",
    "        solve(A, self.u.vector(), b) # Solve for weights for function u\n",
    "        # Return the solution\n",
    "        return self.u\n",
    "      \n",
    "        \n",
    "    def plot_solution(self):\n",
    "        # Define plot size\n",
    "        plt.rcParams['figure.figsize'] = [22, 11]\n",
    "        # Plot Numerical Solution\n",
    "        s = plot(self.solve_system()/1e6)\n",
    "        ax = plt.gca()\n",
    "        ax.set_xlabel('X [M]')\n",
    "        ax.set_ylabel('Y [M]')\n",
    "        ax.set_zlabel('Depth [M]')\n",
    "        #plt.zlabel(\"Depth [M]\")\n",
    "        plt.title(\"Approximation of Hydrostatic Fluid Pressure\")\n",
    "        plt.colorbar(s,label='Pressure [MPa]')\n",
    "        # Show Plots\n",
    "        plt.show(s)\n",
    "        \n",
    "\n",
    "TestProb = FlowElastic3D()\n",
    "x = TestProb.solve_system()\n",
    "print(len(x))"
   ]
  },
  {
   "cell_type": "code",
   "execution_count": 16,
   "metadata": {},
   "outputs": [
    {
     "name": "stdout",
     "output_type": "stream",
     "text": [
      "[proxy:0:0@473ab152b59e] HYDU_create_process (utils/launch/launch.c:74): execvp error on file /fenics-app (No such file or directory)\r\n",
      "[proxy:0:0@473ab152b59e] HYDU_create_process (utils/launch/launch.c:74): execvp error on file /fenics-app (No such file or directory)\r\n"
     ]
    }
   ],
   "source": [
    "!mpirun -np 2 /fenics-app mpitest.py"
   ]
  },
  {
   "cell_type": "code",
   "execution_count": 8,
   "metadata": {},
   "outputs": [],
   "source": [
    "TestProb = FlowElastic3D()"
   ]
  },
  {
   "cell_type": "code",
   "execution_count": 9,
   "metadata": {},
   "outputs": [
    {
     "ename": "RuntimeError",
     "evalue": "\n\n*** -------------------------------------------------------------------------\n*** DOLFIN encountered an error. If you are not able to resolve this issue\n*** using the information listed below, you can ask for help at\n***\n***     fenics-support@googlegroups.com\n***\n*** Remember to include the error message listed below and, if possible,\n*** include a *minimal* running example to reproduce the error.\n***\n*** -------------------------------------------------------------------------\n*** Error:   Unable to successfully call PETSc function 'KSPSolve'.\n*** Reason:  PETSc error code is: 76 (Error in external library).\n*** Where:   This error was encountered inside /tmp/dolfin/dolfin/la/PETScKrylovSolver.cpp.\n*** Process: 0\n*** \n*** DOLFIN version: 2018.1.0\n*** Git changeset:  948dc42cc4e06ed9227d0201ad50f94ac94cbf9f\n*** -------------------------------------------------------------------------\n",
     "output_type": "error",
     "traceback": [
      "\u001b[0;31m---------------------------------------------------------------------------\u001b[0m",
      "\u001b[0;31mRuntimeError\u001b[0m                              Traceback (most recent call last)",
      "\u001b[0;32m<ipython-input-9-25f4278e2133>\u001b[0m in \u001b[0;36m<module>\u001b[0;34m()\u001b[0m\n\u001b[0;32m----> 1\u001b[0;31m \u001b[0mTestProb\u001b[0m\u001b[0;34m.\u001b[0m\u001b[0mplot_solution\u001b[0m\u001b[0;34m(\u001b[0m\u001b[0;34m)\u001b[0m\u001b[0;34m\u001b[0m\u001b[0m\n\u001b[0m",
      "\u001b[0;32m<ipython-input-7-0726c1144ace>\u001b[0m in \u001b[0;36mplot_solution\u001b[0;34m(self)\u001b[0m\n\u001b[1;32m    100\u001b[0m         \u001b[0mplt\u001b[0m\u001b[0;34m.\u001b[0m\u001b[0mrcParams\u001b[0m\u001b[0;34m[\u001b[0m\u001b[0;34m'figure.figsize'\u001b[0m\u001b[0;34m]\u001b[0m \u001b[0;34m=\u001b[0m \u001b[0;34m[\u001b[0m\u001b[0;36m22\u001b[0m\u001b[0;34m,\u001b[0m \u001b[0;36m11\u001b[0m\u001b[0;34m]\u001b[0m\u001b[0;34m\u001b[0m\u001b[0m\n\u001b[1;32m    101\u001b[0m         \u001b[0;31m# Plot Numerical Solution\u001b[0m\u001b[0;34m\u001b[0m\u001b[0;34m\u001b[0m\u001b[0m\n\u001b[0;32m--> 102\u001b[0;31m         \u001b[0ms\u001b[0m \u001b[0;34m=\u001b[0m \u001b[0mplot\u001b[0m\u001b[0;34m(\u001b[0m\u001b[0mself\u001b[0m\u001b[0;34m.\u001b[0m\u001b[0msolve_system\u001b[0m\u001b[0;34m(\u001b[0m\u001b[0;34m)\u001b[0m\u001b[0;34m/\u001b[0m\u001b[0;36m1e6\u001b[0m\u001b[0;34m)\u001b[0m\u001b[0;34m\u001b[0m\u001b[0m\n\u001b[0m\u001b[1;32m    103\u001b[0m         \u001b[0max\u001b[0m \u001b[0;34m=\u001b[0m \u001b[0mplt\u001b[0m\u001b[0;34m.\u001b[0m\u001b[0mgca\u001b[0m\u001b[0;34m(\u001b[0m\u001b[0;34m)\u001b[0m\u001b[0;34m\u001b[0m\u001b[0m\n\u001b[1;32m    104\u001b[0m         \u001b[0max\u001b[0m\u001b[0;34m.\u001b[0m\u001b[0mset_xlabel\u001b[0m\u001b[0;34m(\u001b[0m\u001b[0;34m'X [M]'\u001b[0m\u001b[0;34m)\u001b[0m\u001b[0;34m\u001b[0m\u001b[0m\n",
      "\u001b[0;32m<ipython-input-7-0726c1144ace>\u001b[0m in \u001b[0;36msolve_system\u001b[0;34m(self)\u001b[0m\n\u001b[1;32m     91\u001b[0m         \u001b[0mA\u001b[0m\u001b[0;34m,\u001b[0m \u001b[0mb\u001b[0m \u001b[0;34m=\u001b[0m \u001b[0massemble_system\u001b[0m\u001b[0;34m(\u001b[0m\u001b[0ma\u001b[0m\u001b[0;34m,\u001b[0m \u001b[0mL\u001b[0m\u001b[0;34m,\u001b[0m \u001b[0mself\u001b[0m\u001b[0;34m.\u001b[0m\u001b[0mbcs\u001b[0m\u001b[0;34m)\u001b[0m \u001b[0;31m# Assembly\u001b[0m\u001b[0;34m\u001b[0m\u001b[0m\n\u001b[1;32m     92\u001b[0m         \u001b[0mself\u001b[0m\u001b[0;34m.\u001b[0m\u001b[0mu\u001b[0m \u001b[0;34m=\u001b[0m \u001b[0mFunction\u001b[0m\u001b[0;34m(\u001b[0m\u001b[0mself\u001b[0m\u001b[0;34m.\u001b[0m\u001b[0mVh\u001b[0m\u001b[0;34m)\u001b[0m \u001b[0;31m# Define place holder function\u001b[0m\u001b[0;34m\u001b[0m\u001b[0m\n\u001b[0;32m---> 93\u001b[0;31m         \u001b[0msolve\u001b[0m\u001b[0;34m(\u001b[0m\u001b[0mA\u001b[0m\u001b[0;34m,\u001b[0m \u001b[0mself\u001b[0m\u001b[0;34m.\u001b[0m\u001b[0mu\u001b[0m\u001b[0;34m.\u001b[0m\u001b[0mvector\u001b[0m\u001b[0;34m(\u001b[0m\u001b[0;34m)\u001b[0m\u001b[0;34m,\u001b[0m \u001b[0mb\u001b[0m\u001b[0;34m)\u001b[0m \u001b[0;31m# Solve for weights for function u\u001b[0m\u001b[0;34m\u001b[0m\u001b[0m\n\u001b[0m\u001b[1;32m     94\u001b[0m         \u001b[0;31m# Return the solution\u001b[0m\u001b[0;34m\u001b[0m\u001b[0;34m\u001b[0m\u001b[0m\n\u001b[1;32m     95\u001b[0m         \u001b[0;32mreturn\u001b[0m \u001b[0mself\u001b[0m\u001b[0;34m.\u001b[0m\u001b[0mu\u001b[0m\u001b[0;34m\u001b[0m\u001b[0m\n",
      "\u001b[0;32m/usr/local/lib/python3.6/dist-packages/dolfin/fem/solving.py\u001b[0m in \u001b[0;36msolve\u001b[0;34m(*args, **kwargs)\u001b[0m\n\u001b[1;32m    225\u001b[0m             \u001b[0;32mraise\u001b[0m \u001b[0mRuntimeError\u001b[0m\u001b[0;34m(\u001b[0m\u001b[0;34m\"Not expecting keyword arguments when solving linear algebra problem.\"\u001b[0m\u001b[0;34m)\u001b[0m\u001b[0;34m\u001b[0m\u001b[0m\n\u001b[1;32m    226\u001b[0m \u001b[0;34m\u001b[0m\u001b[0m\n\u001b[0;32m--> 227\u001b[0;31m         \u001b[0;32mreturn\u001b[0m \u001b[0mdolfin\u001b[0m\u001b[0;34m.\u001b[0m\u001b[0mla\u001b[0m\u001b[0;34m.\u001b[0m\u001b[0msolver\u001b[0m\u001b[0;34m.\u001b[0m\u001b[0msolve\u001b[0m\u001b[0;34m(\u001b[0m\u001b[0;34m*\u001b[0m\u001b[0margs\u001b[0m\u001b[0;34m)\u001b[0m\u001b[0;34m\u001b[0m\u001b[0m\n\u001b[0m\u001b[1;32m    228\u001b[0m \u001b[0;34m\u001b[0m\u001b[0m\n\u001b[1;32m    229\u001b[0m \u001b[0;34m\u001b[0m\u001b[0m\n",
      "\u001b[0;32m/usr/local/lib/python3.6/dist-packages/dolfin/la/solver.py\u001b[0m in \u001b[0;36msolve\u001b[0;34m(A, x, b, method, preconditioner)\u001b[0m\n\u001b[1;32m     70\u001b[0m     \"\"\"\n\u001b[1;32m     71\u001b[0m \u001b[0;34m\u001b[0m\u001b[0m\n\u001b[0;32m---> 72\u001b[0;31m     \u001b[0;32mreturn\u001b[0m \u001b[0mcpp\u001b[0m\u001b[0;34m.\u001b[0m\u001b[0mla\u001b[0m\u001b[0;34m.\u001b[0m\u001b[0msolve\u001b[0m\u001b[0;34m(\u001b[0m\u001b[0mA\u001b[0m\u001b[0;34m,\u001b[0m \u001b[0mx\u001b[0m\u001b[0;34m,\u001b[0m \u001b[0mb\u001b[0m\u001b[0;34m,\u001b[0m \u001b[0mmethod\u001b[0m\u001b[0;34m,\u001b[0m \u001b[0mpreconditioner\u001b[0m\u001b[0;34m)\u001b[0m\u001b[0;34m\u001b[0m\u001b[0m\n\u001b[0m",
      "\u001b[0;31mRuntimeError\u001b[0m: \n\n*** -------------------------------------------------------------------------\n*** DOLFIN encountered an error. If you are not able to resolve this issue\n*** using the information listed below, you can ask for help at\n***\n***     fenics-support@googlegroups.com\n***\n*** Remember to include the error message listed below and, if possible,\n*** include a *minimal* running example to reproduce the error.\n***\n*** -------------------------------------------------------------------------\n*** Error:   Unable to successfully call PETSc function 'KSPSolve'.\n*** Reason:  PETSc error code is: 76 (Error in external library).\n*** Where:   This error was encountered inside /tmp/dolfin/dolfin/la/PETScKrylovSolver.cpp.\n*** Process: 0\n*** \n*** DOLFIN version: 2018.1.0\n*** Git changeset:  948dc42cc4e06ed9227d0201ad50f94ac94cbf9f\n*** -------------------------------------------------------------------------\n"
     ]
    }
   ],
   "source": [
    "TestProb.plot_solution()"
   ]
  },
  {
   "cell_type": "code",
   "execution_count": 6,
   "metadata": {},
   "outputs": [
    {
     "data": {
      "text/plain": [
       "48000"
      ]
     },
     "execution_count": 6,
     "metadata": {},
     "output_type": "execute_result"
    }
   ],
   "source": [
    "TestProb.mesh.num_cells()"
   ]
  },
  {
   "cell_type": "markdown",
   "metadata": {},
   "source": [
    "### Comparison of Numerical and Analytical Solution (along a vertical transect) "
   ]
  },
  {
   "cell_type": "code",
   "execution_count": 4,
   "metadata": {},
   "outputs": [
    {
     "data": {
      "image/png": "[encoded data removed]",
      "text/plain": [
       "<Figure size 1080x540 with 1 Axes>"
      ]
     },
     "metadata": {
      "needs_background": "light"
     },
     "output_type": "display_data"
    }
   ],
   "source": [
    "n = 5000\n",
    "xcoord = 10.0\n",
    "ycoord = 10.0\n",
    "zcoord = np.linspace(0.0,-20.0,n) \n",
    "VerticalSlice = np.zeros(n)\n",
    "\n",
    "for i in range(len(zcoord)):\n",
    "    VerticalSlice[i] = TestProb.u(xcoord,ycoord,zcoord[i])\n",
    "\n",
    "plt.rcParams['figure.figsize'] = [15, 7.5]\n",
    "plt.plot(VerticalSlice/1e6,zcoord,color='r',marker='*',markevery=100,label='Numerical')\n",
    "plt.plot(-zcoord*9.81*1100/1e6,zcoord,'k-',label='Analytical')\n",
    "plt.title('Reconstructing Hydrostatic Pressure Gradient')\n",
    "plt.xlabel('Pressure [MPa]')\n",
    "plt.ylabel('Depth [Meters]')\n",
    "plt.legend(loc='upper right')\n",
    "plt.show()"
   ]
  }
 ],
 "metadata": {
  "kernelspec": {
   "display_name": "Python 3",
   "language": "python",
   "name": "python3"
  },
  "language_info": {
   "codemirror_mode": {
    "name": "ipython",
    "version": 3
   },
   "file_extension": ".py",
   "mimetype": "text/x-python",
   "name": "python",
   "nbconvert_exporter": "python",
   "pygments_lexer": "ipython3",
   "version": "3.6.5"
  }
 },
 "nbformat": 4,
 "nbformat_minor": 2
}
